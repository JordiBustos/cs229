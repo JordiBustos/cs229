{
 "cells": [
  {
   "cell_type": "markdown",
   "metadata": {},
   "source": [
    "# 3.  Poisson Regression\n",
    "<b>(a)</b> [5 points] Consider the Poisson distribution parameterized by \n",
    "\\begin{align*}\n",
    "p(y;\\lambda) = \\frac{e^{-\\lambda}\\lambda^y}{y!}\n",
    "\\end{align*}\n",
    "Show that the Poisson distribution is in the exponential family, and clearly state the values for $b(y)$, $\\eta$, $T(y)$, and $a(\\eta)$.\n",
    "### Answer:"
   ]
  },
  {
   "cell_type": "markdown",
   "metadata": {},
   "source": [
    "A distribution is in the exponential family if it can be written in the following form:\n",
    "\n",
    "\\begin{align*}\n",
    "p(y;\\eta)=b(y)\\exp\\left\\{\\eta^TT(y) - a(\\eta)\\right\\}.\n",
    "\\end{align*}\n",
    "\n",
    "The Poisson distribution can be rewritten as\n",
    "\n",
    "\\begin{align*}\n",
    "p(y;\\lambda) = \\frac{1}{y!}e^{y\\ln \\lambda-\\lambda}.\n",
    "\\end{align*}\n",
    "\n",
    "Thus the Poisson distribution is in in the exponential family with\n",
    "\n",
    "\\begin{align*}\n",
    "b(y) = \\frac{1}{y!}\n",
    "\\end{align*}\n",
    "\n",
    "\\begin{align*}\n",
    "\\eta = \\ln\\lambda\n",
    "\\end{align*}\n",
    "\n",
    "\\begin{align*}\n",
    "T(y) = y\n",
    "\\end{align*}\n",
    "\n",
    "\\begin{align*}\n",
    "a(\\eta) = \\lambda = e^\\eta.\n",
    "\\end{align*}\n"
   ]
  },
  {
   "cell_type": "markdown",
   "metadata": {},
   "source": [
    "<b>(b)</b> [3 points] Consider performing regression using a GLM model with a Poisson response variable. What is the canonical response function for the family? (You may use the fact that a Poisson random variable with parameter $\\lambda$ has mean $\\lambda$.)\n",
    "### Answer: "
   ]
  },
  {
   "cell_type": "markdown",
   "metadata": {},
   "source": [
    "Recall that the function $g$ giving the distributionss mean as a function of the natural parameter ($g(\\eta) = E[T(y);\\eta]$) is called the canonical response function. Therefore,\n",
    "\\begin{align*}\n",
    "g(\\eta) \n",
    "& = E[y;\\eta] \\\\\n",
    "& = \\lambda \\\\\n",
    "& = e^\\eta.\n",
    "\\end{align*}"
   ]
  },
  {
   "cell_type": "markdown",
   "metadata": {},
   "source": [
    "<b>(c)</b> [7 points] For a training set $\\{(x^{(i)},y^{(i)}); i= 1,\\cdots,m\\}$, let the log-likelihood of an example be $\\log p(y^{(i)}|x^{(i)};\\theta)$. By taking the derivative of the log-likelihood with respect to $\\theta_j$, derive the stochastic gradient ascent update rule for learning using a GLM model with Poisson responses y and the canonical response function.\n",
    "### Answer: "
   ]
  },
  {
   "cell_type": "markdown",
   "metadata": {},
   "source": [
    "In the GLM setting, we have the follwoing assumpitions:\n",
    "\n",
    "1. $y| x;\\theta \\sim b(y)\\exp\\left\\{\\eta^TT(y) - a(\\eta)\\right\\}$\n",
    "2. $h_\\theta(x) = E[T(y)|x;\\theta]$\n",
    "\n",
    "where $\\eta = \\theta^T x$. Therefore, the log-likelihood of an example $(x^{(i)},y^{(i)})$ is\n",
    "\n",
    "\\begin{align*}\n",
    "l(\\theta)\n",
    "& = \\log p(y^{(i)}|x^{(i)};\\theta) \\\\\n",
    "& = C + \\eta^TT(y^{(i)}) - a(\\eta).\n",
    "\\end{align*}\n",
    "Recall that $\\frac{\\partial a(\\eta)}{\\partial\\eta}=E[T(y)|\\eta]$.\n",
    "By taking the derivative of the log-likelihood with respect to $\\theta$, we have\n",
    "\n",
    "\\begin{align*}\n",
    "\\frac{\\partial l}{\\partial\\theta}\n",
    "& = \\left(T(y^{(i)}) - E[T(y^{(i)})|\\eta]\\right)\\frac{\\partial\\eta}{\\partial \\theta} \\\\\n",
    "& = \\left(T(y^{(i)}) - h\\_\\theta(x^{(i)})\\right)x^{(i)}.\n",
    "\\end{align*}\n",
    "\n",
    "Using  \n",
    "\\begin{align*}\n",
    "T(y) = y\\quad {\\rm and} \\quad h\\_\\theta(x) = E[y|x;\\theta] = e^{\\theta x}.\n",
    "\\end{align*}\n",
    "\n",
    "the the derivative of the log-likelihood can be written as:\n",
    "\n",
    "\\begin{align*}\n",
    "\\frac{\\partial l}{\\partial\\theta}\n",
    "& = \\left(y^{(i)} - e^{\\theta^Tx^{(i)}}\\right)x^{(i)}.\n",
    "\\end{align*}\n",
    "\n",
    "Hence, the update rule using gradint ascent is\n",
    "\n",
    "\\begin{align*}\n",
    "\\theta := \\theta + \\alpha \\left(y^{(i)} - e^{\\theta^Tx^{(i)}}\\right)x^{(i)}.\n",
    "\\end{align*}\n"
   ]
  },
  {
   "cell_type": "markdown",
   "metadata": {},
   "source": [
    "<b>(d)</b> [7 points] <b>Coding problem.</b> Consider a website that wants to predict its daily traffic. The website owners have collected a dataset of past traffic to their website, along with some features which they think are useful in predicting the number of visitors per day. The dataset is split into train/valid/test sets and follows the same format as Datasets 1-3:\n",
    "`data/ds4_{train,valid}.csv`\n",
    "We will apply Poisson regression to model the number of visitors per day. Note that applying Poisson regression in particular assumes that the data follows a Poisson distribution whose natural parameter is a linear combination of the input features (i.e., $\\eta = \\theta^T x$). In `src/p03d_poisson.py`, implement Poisson regression for this dataset and use gradient ascent to maximize the log-likelihood of $\\theta$.\n",
    "### <font color=red>Answer:</font>"
   ]
  },
  {
   "cell_type": "code",
   "execution_count": 1,
   "metadata": {},
   "outputs": [],
   "source": [
    "import numpy as np\n",
    "import src.util as util\n",
    "from src.linear_model import LinearModel\n",
    "\n",
    "import matplotlib.pyplot as plt\n",
    "\n",
    "\n",
    "%load_ext autoreload\n",
    "%autoreload 2"
   ]
  },
  {
   "cell_type": "code",
   "execution_count": 2,
   "metadata": {},
   "outputs": [],
   "source": [
    "train_path = 'data/ds4_train.csv'\n",
    "valid_path = 'data/ds4_valid.csv'\n",
    "\n",
    "\n",
    "# data sets ready for use in logistic regression \n",
    "x_train, y_train = util.load_dataset(train_path,  add_intercept=True)\n",
    "x_valid, y_valid = util.load_dataset(valid_path,  add_intercept=True)"
   ]
  },
  {
   "cell_type": "code",
   "execution_count": 3,
   "metadata": {},
   "outputs": [
    {
     "data": {
      "text/plain": [
       "array([[1.        , 1.        , 0.        , 0.99204749, 0.32574102],\n",
       "       [1.        , 0.        , 1.        , 0.47046345, 0.37186578],\n",
       "       [1.        , 0.        , 1.        , 0.49653283, 0.28985262],\n",
       "       ...,\n",
       "       [1.        , 0.        , 1.        , 0.5731734 , 0.42840612],\n",
       "       [1.        , 0.        , 1.        , 0.60116637, 0.94911474],\n",
       "       [1.        , 0.        , 1.        , 0.32460144, 0.40509498]])"
      ]
     },
     "execution_count": 3,
     "metadata": {},
     "output_type": "execute_result"
    }
   ],
   "source": [
    "x_train"
   ]
  },
  {
   "cell_type": "code",
   "execution_count": 7,
   "metadata": {},
   "outputs": [],
   "source": [
    "class PoissonRegression(LinearModel):\n",
    "    \"\"\"Poisson Regression.\n",
    "\n",
    "    Example usage:\n",
    "        > clf = PoissonRegression(step_size=lr)\n",
    "        > clf.fit(x_train, y_train)\n",
    "        > clf.predict(x_eval)\n",
    "    \"\"\"\n",
    "\n",
    "    def fit(self, x, y):\n",
    "        \"\"\"Run gradient ascent to maximize likelihood for Poisson regression.\n",
    "\n",
    "        Args:\n",
    "            x: Training example inputs. Shape (m, n).\n",
    "            y: Training example labels. Shape (m,).\n",
    "        \"\"\"\n",
    "        # *** START CODE HERE ***\n",
    "        _, n = x.shape\n",
    "        if self.theta is None:\n",
    "            self.theta = np.zeros(n)\n",
    "\n",
    "        for _ in range(self.max_iter):\n",
    "            step = self.step_size * x.T @ (y - np.exp(x @ self.theta))\n",
    "            self.theta += step\n",
    "            if np.linalg.norm(step, 1) <= self.eps:\n",
    "                break\n",
    "\n",
    "        # *** END CODE HERE ***\n",
    "\n",
    "    def predict(self, x):\n",
    "        \"\"\"Make a prediction given inputs x.\n",
    "\n",
    "        Args:\n",
    "            x: Inputs of shape (m, n).\n",
    "\n",
    "        Returns:\n",
    "            Floating-point prediction for each input, shape (m,).\n",
    "        \"\"\"\n",
    "        # *** START CODE HERE ***\n",
    "        return np.exp(x @ self.theta)\n",
    "        # *** END CODE HERE ***"
   ]
  },
  {
   "cell_type": "code",
   "execution_count": 8,
   "metadata": {},
   "outputs": [
    {
     "data": {
      "text/plain": [
       "array([7.3663442 , 3.93318364, 3.43316055, 2.00016609, 4.40044556])"
      ]
     },
     "execution_count": 8,
     "metadata": {},
     "output_type": "execute_result"
    }
   ],
   "source": [
    "clf = PoissonRegression(step_size=4e-11, max_iter = 10000)\n",
    "clf.fit(x_train, y_train)\n",
    "clf.theta"
   ]
  },
  {
   "cell_type": "code",
   "execution_count": 9,
   "metadata": {},
   "outputs": [
    {
     "data": {
      "text/plain": [
       "1912.955730380082"
      ]
     },
     "execution_count": 9,
     "metadata": {},
     "output_type": "execute_result"
    }
   ],
   "source": [
    "y_pred_t = clf.predict(x_train)\n",
    "np.sqrt(np.mean((y_pred_t - y_train)**2))"
   ]
  },
  {
   "cell_type": "code",
   "execution_count": 10,
   "metadata": {},
   "outputs": [],
   "source": [
    "y_pred = clf.predict(x_valid)"
   ]
  },
  {
   "cell_type": "code",
   "execution_count": 11,
   "metadata": {},
   "outputs": [
    {
     "data": {
      "text/plain": [
       "[<matplotlib.lines.Line2D at 0x7f4fb3f7f9d0>]"
      ]
     },
     "execution_count": 11,
     "metadata": {},
     "output_type": "execute_result"
    },
    {
     "data": {
      "image/png": "[encoded data removed]",
      "text/plain": [
       "<Figure size 640x480 with 1 Axes>"
      ]
     },
     "metadata": {},
     "output_type": "display_data"
    }
   ],
   "source": [
    "plt.plot(y_valid, 'ro')\n",
    "plt.plot(y_pred, 'bx')"
   ]
  },
  {
   "cell_type": "code",
   "execution_count": 12,
   "metadata": {},
   "outputs": [
    {
     "data": {
      "text/plain": [
       "1965.9864026447683"
      ]
     },
     "execution_count": 12,
     "metadata": {},
     "output_type": "execute_result"
    }
   ],
   "source": [
    "np.sqrt(np.mean((y_pred - y_valid)**2))"
   ]
  }
 ],
 "metadata": {
  "kernelspec": {
   "display_name": "Python 3",
   "language": "python",
   "name": "python3"
  },
  "language_info": {
   "codemirror_mode": {
    "name": "ipython",
    "version": 3
   },
   "file_extension": ".py",
   "mimetype": "text/x-python",
   "name": "python",
   "nbconvert_exporter": "python",
   "pygments_lexer": "ipython3",
   "version": "3.10.12"
  }
 },
 "nbformat": 4,
 "nbformat_minor": 4
}
